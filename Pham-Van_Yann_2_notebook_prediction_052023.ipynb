{
 "cells": [
  {
   "cell_type": "markdown",
   "id": "12de5592",
   "metadata": {},
   "source": [
    "# Anticipez les besoins en consommation de bâtiments\n",
    "\n",
    "# Prédiction des consommations totales"
   ]
  },
  {
   "cell_type": "markdown",
   "id": "9ae995c7",
   "metadata": {},
   "source": [
    "## Mission\n",
    "\n",
    "Vous travaillez pour la **ville de Seattle**. Pour atteindre son objectif de ville neutre en émissions de carbone en 2050, votre équipe s’intéresse de près à la consommation et aux émissions des **bâtiments non destinés à l’habitation**.\n",
    "\n",
    "Des relevés minutieux ont été effectués par les agents de la ville en 2016. Cependant, ces relevés sont coûteux à obtenir, et à partir de ceux déjà réalisés, **vous voulez tenter de prédire les émissions de CO2 et la consommation totale d’énergie** de bâtiments **non destinés à l’habitation** pour lesquels elles n’ont pas encore été mesurées.\n",
    "\n",
    "*Votre prédiction se basera sur les données structurelles des bâtiments (taille et usage des bâtiments, date de construction, situation géographique, ...)*\n",
    "\n",
    "Vous cherchez également à **évaluer l’intérêt de l’\"ENERGY STAR Score\" pour la prédiction d’émissions**, qui est fastidieux à calculer avec l’approche utilisée actuellement par votre équipe. Vous l'intégrerez dans la modélisation et jugerez de son intérêt.\n",
    "\n",
    "Vous sortez tout juste d’une réunion de brief avec votre équipe. Voici un récapitulatif de votre mission :\n",
    "\n",
    "- Réaliser une courte analyse exploratoire.\n",
    "- Tester différents modèles de prédiction afin de répondre au mieux à la problématique.\n",
    "Avant de quitter la salle de brief, Douglas, le project lead, vous donne quelques pistes et erreurs à éviter :\n",
    "\n",
    "**Douglas** : *L’objectif est de te passer des relevés de consommation annuels futurs (attention à la fuite de données). Nous ferons de toute façon pour tout nouveau bâtiment un premier relevé de référence la première année, donc rien ne t'interdit d’en déduire des variables structurelles aux bâtiments, par exemple la nature et proportions des sources d’énergie utilisées..*\n",
    "\n",
    "*Fais bien attention au traitement des différentes variables, à la fois pour trouver de nouvelles informations (peut-on déduire des choses intéressantes d’une simple adresse ?) et optimiser les performances en appliquant des transformations simples aux variables (normalisation, passage au log, etc.).*\n",
    "\n",
    "*Mets en place une évaluation rigoureuse des performances de la régression, et optimise les hyperparamètres et le choix d’algorithmes de ML à l’aide d’une validation croisée.*"
   ]
  },
  {
   "cell_type": "markdown",
   "id": "5e9b4d75",
   "metadata": {},
   "source": [
    "Import des librairies utilisées et configuration"
   ]
  },
  {
   "cell_type": "code",
   "execution_count": 1,
   "id": "24767fc8",
   "metadata": {},
   "outputs": [],
   "source": [
    "import pandas as pd\n",
    "import numpy as np\n",
    "from sklearn.model_selection import GridSearchCV, train_test_split\n",
    "from sklearn.linear_model import LinearRegression, RidgeCV\n",
    "from sklearn.svm import SVR\n",
    "from sklearn import metrics\n",
    "from sklearn.dummy import DummyRegressor\n",
    "from sklearn.preprocessing import RobustScaler, OneHotEncoder\n",
    "from sklearn.compose import make_column_transformer, make_column_selector\n",
    "from sklearn.pipeline import make_pipeline\n",
    "from sklearn.ensemble import RandomForestRegressor, AdaBoostRegressor, GradientBoostingRegressor\n",
    "from sklearn.neighbors import KNeighborsRegressor\n",
    "from sklearn.kernel_ridge import KernelRidge\n",
    "import timeit\n",
    "import matplotlib.pyplot as plt\n",
    "import seaborn as sns"
   ]
  },
  {
   "cell_type": "markdown",
   "id": "929d6caf",
   "metadata": {},
   "source": [
    "Import du dataframe issu de l'analyse exploratoire"
   ]
  },
  {
   "cell_type": "code",
   "execution_count": 2,
   "id": "0199c8aa",
   "metadata": {},
   "outputs": [
    {
     "data": {
      "text/html": [
       "<div>\n",
       "<style scoped>\n",
       "    .dataframe tbody tr th:only-of-type {\n",
       "        vertical-align: middle;\n",
       "    }\n",
       "\n",
       "    .dataframe tbody tr th {\n",
       "        vertical-align: top;\n",
       "    }\n",
       "\n",
       "    .dataframe thead th {\n",
       "        text-align: right;\n",
       "    }\n",
       "</style>\n",
       "<table border=\"1\" class=\"dataframe\">\n",
       "  <thead>\n",
       "    <tr style=\"text-align: right;\">\n",
       "      <th></th>\n",
       "      <th>SiteEnergyUseWN(kBtu)</th>\n",
       "      <th>BuildingType</th>\n",
       "      <th>PrimaryPropertyType</th>\n",
       "      <th>NumberofBuildings</th>\n",
       "      <th>NumberofFloors</th>\n",
       "      <th>PropertyGFATotal</th>\n",
       "      <th>Age</th>\n",
       "      <th>ENERGYSTARScore</th>\n",
       "    </tr>\n",
       "  </thead>\n",
       "  <tbody>\n",
       "    <tr>\n",
       "      <th>0</th>\n",
       "      <td>7456910.0</td>\n",
       "      <td>NonResidential</td>\n",
       "      <td>Hotel</td>\n",
       "      <td>0.0</td>\n",
       "      <td>12</td>\n",
       "      <td>88434</td>\n",
       "      <td>89</td>\n",
       "      <td>60.0</td>\n",
       "    </tr>\n",
       "  </tbody>\n",
       "</table>\n",
       "</div>"
      ],
      "text/plain": [
       "   SiteEnergyUseWN(kBtu)    BuildingType PrimaryPropertyType  \\\n",
       "0              7456910.0  NonResidential               Hotel   \n",
       "\n",
       "   NumberofBuildings  NumberofFloors  PropertyGFATotal  Age  ENERGYSTARScore  \n",
       "0                0.0              12             88434   89             60.0  "
      ]
     },
     "execution_count": 2,
     "metadata": {},
     "output_type": "execute_result"
    }
   ],
   "source": [
    "data = pd.read_csv('df_consommation.csv')\n",
    "data.head(1)"
   ]
  },
  {
   "cell_type": "markdown",
   "id": "0d476dc8",
   "metadata": {},
   "source": [
    "## Pré-processing\n",
    "Je fais une copie de l'import, sans l'*ENERGYSTARScore*."
   ]
  },
  {
   "cell_type": "code",
   "execution_count": 3,
   "id": "9447091c",
   "metadata": {
    "scrolled": false
   },
   "outputs": [
    {
     "data": {
      "text/html": [
       "<div>\n",
       "<style scoped>\n",
       "    .dataframe tbody tr th:only-of-type {\n",
       "        vertical-align: middle;\n",
       "    }\n",
       "\n",
       "    .dataframe tbody tr th {\n",
       "        vertical-align: top;\n",
       "    }\n",
       "\n",
       "    .dataframe thead th {\n",
       "        text-align: right;\n",
       "    }\n",
       "</style>\n",
       "<table border=\"1\" class=\"dataframe\">\n",
       "  <thead>\n",
       "    <tr style=\"text-align: right;\">\n",
       "      <th></th>\n",
       "      <th>SiteEnergyUseWN(kBtu)</th>\n",
       "      <th>BuildingType</th>\n",
       "      <th>PrimaryPropertyType</th>\n",
       "      <th>NumberofBuildings</th>\n",
       "      <th>NumberofFloors</th>\n",
       "      <th>PropertyGFATotal</th>\n",
       "      <th>Age</th>\n",
       "    </tr>\n",
       "  </thead>\n",
       "  <tbody>\n",
       "    <tr>\n",
       "      <th>0</th>\n",
       "      <td>7456910.0</td>\n",
       "      <td>NonResidential</td>\n",
       "      <td>Hotel</td>\n",
       "      <td>0.0</td>\n",
       "      <td>12</td>\n",
       "      <td>88434</td>\n",
       "      <td>89</td>\n",
       "    </tr>\n",
       "  </tbody>\n",
       "</table>\n",
       "</div>"
      ],
      "text/plain": [
       "   SiteEnergyUseWN(kBtu)    BuildingType PrimaryPropertyType  \\\n",
       "0              7456910.0  NonResidential               Hotel   \n",
       "\n",
       "   NumberofBuildings  NumberofFloors  PropertyGFATotal  Age  \n",
       "0                0.0              12             88434   89  "
      ]
     },
     "execution_count": 3,
     "metadata": {},
     "output_type": "execute_result"
    }
   ],
   "source": [
    "df = data.drop(columns='ENERGYSTARScore')\n",
    "df.head(1)"
   ]
  },
  {
   "cell_type": "markdown",
   "id": "bea04830",
   "metadata": {},
   "source": [
    "Les variables **X** et la target **y** sont :"
   ]
  },
  {
   "cell_type": "code",
   "execution_count": 4,
   "id": "1ef469ad",
   "metadata": {},
   "outputs": [],
   "source": [
    "X = df.drop(columns='SiteEnergyUseWN(kBtu)')\n",
    "y = df['SiteEnergyUseWN(kBtu)']"
   ]
  },
  {
   "cell_type": "markdown",
   "id": "060b5c33",
   "metadata": {},
   "source": [
    "Je sépare les données sur un jeu d'entraînement et un jeu de test :"
   ]
  },
  {
   "cell_type": "code",
   "execution_count": 5,
   "id": "7cc633b2",
   "metadata": {},
   "outputs": [],
   "source": [
    "X_train, X_test, y_train, y_test = train_test_split(X, y, test_size=0.2, random_state=39)"
   ]
  },
  {
   "cell_type": "markdown",
   "id": "0b7767aa",
   "metadata": {},
   "source": [
    "### Encodage - Pipeline"
   ]
  },
  {
   "cell_type": "code",
   "execution_count": 6,
   "id": "e9940982",
   "metadata": {},
   "outputs": [],
   "source": [
    "variables_numeriques = make_column_selector(dtype_include=np.number)\n",
    "variables_categoriques = make_column_selector(dtype_exclude=np.number)"
   ]
  },
  {
   "cell_type": "code",
   "execution_count": 7,
   "id": "cb9c5f33",
   "metadata": {},
   "outputs": [],
   "source": [
    "pipeline_numerique = make_pipeline(RobustScaler())\n",
    "pipeline_categorique = make_pipeline(OneHotEncoder(handle_unknown='ignore'))"
   ]
  },
  {
   "cell_type": "code",
   "execution_count": 8,
   "id": "7c4e3603",
   "metadata": {},
   "outputs": [],
   "source": [
    "preprocesseur = make_column_transformer((pipeline_numerique, variables_numeriques),\n",
    "                                      (pipeline_categorique, variables_categoriques), n_jobs=-1)"
   ]
  },
  {
   "cell_type": "code",
   "execution_count": 9,
   "id": "5caf9951",
   "metadata": {},
   "outputs": [],
   "source": [
    "model = make_pipeline(preprocesseur, LinearRegression())"
   ]
  },
  {
   "cell_type": "markdown",
   "id": "f5f52d5c",
   "metadata": {},
   "source": [
    "J'entraîne ce modèle sur les données d'entraînement :"
   ]
  },
  {
   "cell_type": "code",
   "execution_count": 10,
   "id": "86fca62d",
   "metadata": {},
   "outputs": [
    {
     "data": {
      "text/html": [
       "<style>#sk-container-id-1 {color: black;background-color: white;}#sk-container-id-1 pre{padding: 0;}#sk-container-id-1 div.sk-toggleable {background-color: white;}#sk-container-id-1 label.sk-toggleable__label {cursor: pointer;display: block;width: 100%;margin-bottom: 0;padding: 0.3em;box-sizing: border-box;text-align: center;}#sk-container-id-1 label.sk-toggleable__label-arrow:before {content: \"▸\";float: left;margin-right: 0.25em;color: #696969;}#sk-container-id-1 label.sk-toggleable__label-arrow:hover:before {color: black;}#sk-container-id-1 div.sk-estimator:hover label.sk-toggleable__label-arrow:before {color: black;}#sk-container-id-1 div.sk-toggleable__content {max-height: 0;max-width: 0;overflow: hidden;text-align: left;background-color: #f0f8ff;}#sk-container-id-1 div.sk-toggleable__content pre {margin: 0.2em;color: black;border-radius: 0.25em;background-color: #f0f8ff;}#sk-container-id-1 input.sk-toggleable__control:checked~div.sk-toggleable__content {max-height: 200px;max-width: 100%;overflow: auto;}#sk-container-id-1 input.sk-toggleable__control:checked~label.sk-toggleable__label-arrow:before {content: \"▾\";}#sk-container-id-1 div.sk-estimator input.sk-toggleable__control:checked~label.sk-toggleable__label {background-color: #d4ebff;}#sk-container-id-1 div.sk-label input.sk-toggleable__control:checked~label.sk-toggleable__label {background-color: #d4ebff;}#sk-container-id-1 input.sk-hidden--visually {border: 0;clip: rect(1px 1px 1px 1px);clip: rect(1px, 1px, 1px, 1px);height: 1px;margin: -1px;overflow: hidden;padding: 0;position: absolute;width: 1px;}#sk-container-id-1 div.sk-estimator {font-family: monospace;background-color: #f0f8ff;border: 1px dotted black;border-radius: 0.25em;box-sizing: border-box;margin-bottom: 0.5em;}#sk-container-id-1 div.sk-estimator:hover {background-color: #d4ebff;}#sk-container-id-1 div.sk-parallel-item::after {content: \"\";width: 100%;border-bottom: 1px solid gray;flex-grow: 1;}#sk-container-id-1 div.sk-label:hover label.sk-toggleable__label {background-color: #d4ebff;}#sk-container-id-1 div.sk-serial::before {content: \"\";position: absolute;border-left: 1px solid gray;box-sizing: border-box;top: 0;bottom: 0;left: 50%;z-index: 0;}#sk-container-id-1 div.sk-serial {display: flex;flex-direction: column;align-items: center;background-color: white;padding-right: 0.2em;padding-left: 0.2em;position: relative;}#sk-container-id-1 div.sk-item {position: relative;z-index: 1;}#sk-container-id-1 div.sk-parallel {display: flex;align-items: stretch;justify-content: center;background-color: white;position: relative;}#sk-container-id-1 div.sk-item::before, #sk-container-id-1 div.sk-parallel-item::before {content: \"\";position: absolute;border-left: 1px solid gray;box-sizing: border-box;top: 0;bottom: 0;left: 50%;z-index: -1;}#sk-container-id-1 div.sk-parallel-item {display: flex;flex-direction: column;z-index: 1;position: relative;background-color: white;}#sk-container-id-1 div.sk-parallel-item:first-child::after {align-self: flex-end;width: 50%;}#sk-container-id-1 div.sk-parallel-item:last-child::after {align-self: flex-start;width: 50%;}#sk-container-id-1 div.sk-parallel-item:only-child::after {width: 0;}#sk-container-id-1 div.sk-dashed-wrapped {border: 1px dashed gray;margin: 0 0.4em 0.5em 0.4em;box-sizing: border-box;padding-bottom: 0.4em;background-color: white;}#sk-container-id-1 div.sk-label label {font-family: monospace;font-weight: bold;display: inline-block;line-height: 1.2em;}#sk-container-id-1 div.sk-label-container {text-align: center;}#sk-container-id-1 div.sk-container {/* jupyter's `normalize.less` sets `[hidden] { display: none; }` but bootstrap.min.css set `[hidden] { display: none !important; }` so we also need the `!important` here to be able to override the default hidden behavior on the sphinx rendered scikit-learn.org. See: https://github.com/scikit-learn/scikit-learn/issues/21755 */display: inline-block !important;position: relative;}#sk-container-id-1 div.sk-text-repr-fallback {display: none;}</style><div id=\"sk-container-id-1\" class=\"sk-top-container\"><div class=\"sk-text-repr-fallback\"><pre>Pipeline(steps=[(&#x27;columntransformer&#x27;,\n",
       "                 ColumnTransformer(n_jobs=-1,\n",
       "                                   transformers=[(&#x27;pipeline-1&#x27;,\n",
       "                                                  Pipeline(steps=[(&#x27;robustscaler&#x27;,\n",
       "                                                                   RobustScaler())]),\n",
       "                                                  &lt;sklearn.compose._column_transformer.make_column_selector object at 0x00000249525FAAA0&gt;),\n",
       "                                                 (&#x27;pipeline-2&#x27;,\n",
       "                                                  Pipeline(steps=[(&#x27;onehotencoder&#x27;,\n",
       "                                                                   OneHotEncoder(handle_unknown=&#x27;ignore&#x27;))]),\n",
       "                                                  &lt;sklearn.compose._column_transformer.make_column_selector object at 0x00000249525FA7A0&gt;)])),\n",
       "                (&#x27;linearregression&#x27;, LinearRegression())])</pre><b>In a Jupyter environment, please rerun this cell to show the HTML representation or trust the notebook. <br />On GitHub, the HTML representation is unable to render, please try loading this page with nbviewer.org.</b></div><div class=\"sk-container\" hidden><div class=\"sk-item sk-dashed-wrapped\"><div class=\"sk-label-container\"><div class=\"sk-label sk-toggleable\"><input class=\"sk-toggleable__control sk-hidden--visually\" id=\"sk-estimator-id-1\" type=\"checkbox\" ><label for=\"sk-estimator-id-1\" class=\"sk-toggleable__label sk-toggleable__label-arrow\">Pipeline</label><div class=\"sk-toggleable__content\"><pre>Pipeline(steps=[(&#x27;columntransformer&#x27;,\n",
       "                 ColumnTransformer(n_jobs=-1,\n",
       "                                   transformers=[(&#x27;pipeline-1&#x27;,\n",
       "                                                  Pipeline(steps=[(&#x27;robustscaler&#x27;,\n",
       "                                                                   RobustScaler())]),\n",
       "                                                  &lt;sklearn.compose._column_transformer.make_column_selector object at 0x00000249525FAAA0&gt;),\n",
       "                                                 (&#x27;pipeline-2&#x27;,\n",
       "                                                  Pipeline(steps=[(&#x27;onehotencoder&#x27;,\n",
       "                                                                   OneHotEncoder(handle_unknown=&#x27;ignore&#x27;))]),\n",
       "                                                  &lt;sklearn.compose._column_transformer.make_column_selector object at 0x00000249525FA7A0&gt;)])),\n",
       "                (&#x27;linearregression&#x27;, LinearRegression())])</pre></div></div></div><div class=\"sk-serial\"><div class=\"sk-item sk-dashed-wrapped\"><div class=\"sk-label-container\"><div class=\"sk-label sk-toggleable\"><input class=\"sk-toggleable__control sk-hidden--visually\" id=\"sk-estimator-id-2\" type=\"checkbox\" ><label for=\"sk-estimator-id-2\" class=\"sk-toggleable__label sk-toggleable__label-arrow\">columntransformer: ColumnTransformer</label><div class=\"sk-toggleable__content\"><pre>ColumnTransformer(n_jobs=-1,\n",
       "                  transformers=[(&#x27;pipeline-1&#x27;,\n",
       "                                 Pipeline(steps=[(&#x27;robustscaler&#x27;,\n",
       "                                                  RobustScaler())]),\n",
       "                                 &lt;sklearn.compose._column_transformer.make_column_selector object at 0x00000249525FAAA0&gt;),\n",
       "                                (&#x27;pipeline-2&#x27;,\n",
       "                                 Pipeline(steps=[(&#x27;onehotencoder&#x27;,\n",
       "                                                  OneHotEncoder(handle_unknown=&#x27;ignore&#x27;))]),\n",
       "                                 &lt;sklearn.compose._column_transformer.make_column_selector object at 0x00000249525FA7A0&gt;)])</pre></div></div></div><div class=\"sk-parallel\"><div class=\"sk-parallel-item\"><div class=\"sk-item\"><div class=\"sk-label-container\"><div class=\"sk-label sk-toggleable\"><input class=\"sk-toggleable__control sk-hidden--visually\" id=\"sk-estimator-id-3\" type=\"checkbox\" ><label for=\"sk-estimator-id-3\" class=\"sk-toggleable__label sk-toggleable__label-arrow\">pipeline-1</label><div class=\"sk-toggleable__content\"><pre>&lt;sklearn.compose._column_transformer.make_column_selector object at 0x00000249525FAAA0&gt;</pre></div></div></div><div class=\"sk-serial\"><div class=\"sk-item\"><div class=\"sk-serial\"><div class=\"sk-item\"><div class=\"sk-estimator sk-toggleable\"><input class=\"sk-toggleable__control sk-hidden--visually\" id=\"sk-estimator-id-4\" type=\"checkbox\" ><label for=\"sk-estimator-id-4\" class=\"sk-toggleable__label sk-toggleable__label-arrow\">RobustScaler</label><div class=\"sk-toggleable__content\"><pre>RobustScaler()</pre></div></div></div></div></div></div></div></div><div class=\"sk-parallel-item\"><div class=\"sk-item\"><div class=\"sk-label-container\"><div class=\"sk-label sk-toggleable\"><input class=\"sk-toggleable__control sk-hidden--visually\" id=\"sk-estimator-id-5\" type=\"checkbox\" ><label for=\"sk-estimator-id-5\" class=\"sk-toggleable__label sk-toggleable__label-arrow\">pipeline-2</label><div class=\"sk-toggleable__content\"><pre>&lt;sklearn.compose._column_transformer.make_column_selector object at 0x00000249525FA7A0&gt;</pre></div></div></div><div class=\"sk-serial\"><div class=\"sk-item\"><div class=\"sk-serial\"><div class=\"sk-item\"><div class=\"sk-estimator sk-toggleable\"><input class=\"sk-toggleable__control sk-hidden--visually\" id=\"sk-estimator-id-6\" type=\"checkbox\" ><label for=\"sk-estimator-id-6\" class=\"sk-toggleable__label sk-toggleable__label-arrow\">OneHotEncoder</label><div class=\"sk-toggleable__content\"><pre>OneHotEncoder(handle_unknown=&#x27;ignore&#x27;)</pre></div></div></div></div></div></div></div></div></div></div><div class=\"sk-item\"><div class=\"sk-estimator sk-toggleable\"><input class=\"sk-toggleable__control sk-hidden--visually\" id=\"sk-estimator-id-7\" type=\"checkbox\" ><label for=\"sk-estimator-id-7\" class=\"sk-toggleable__label sk-toggleable__label-arrow\">LinearRegression</label><div class=\"sk-toggleable__content\"><pre>LinearRegression()</pre></div></div></div></div></div></div></div>"
      ],
      "text/plain": [
       "Pipeline(steps=[('columntransformer',\n",
       "                 ColumnTransformer(n_jobs=-1,\n",
       "                                   transformers=[('pipeline-1',\n",
       "                                                  Pipeline(steps=[('robustscaler',\n",
       "                                                                   RobustScaler())]),\n",
       "                                                  <sklearn.compose._column_transformer.make_column_selector object at 0x00000249525FAAA0>),\n",
       "                                                 ('pipeline-2',\n",
       "                                                  Pipeline(steps=[('onehotencoder',\n",
       "                                                                   OneHotEncoder(handle_unknown='ignore'))]),\n",
       "                                                  <sklearn.compose._column_transformer.make_column_selector object at 0x00000249525FA7A0>)])),\n",
       "                ('linearregression', LinearRegression())])"
      ]
     },
     "execution_count": 10,
     "metadata": {},
     "output_type": "execute_result"
    }
   ],
   "source": [
    "model.fit(X_train,y_train)"
   ]
  },
  {
   "cell_type": "markdown",
   "id": "4d35e7e6",
   "metadata": {},
   "source": [
    "J'applique le modèle aux données de test :"
   ]
  },
  {
   "cell_type": "code",
   "execution_count": 11,
   "id": "a594a782",
   "metadata": {},
   "outputs": [],
   "source": [
    "y_pred = model.predict(X_test)"
   ]
  },
  {
   "cell_type": "markdown",
   "id": "ed77b57c",
   "metadata": {},
   "source": [
    "J'évalue l'erreur à l'aide des mesures telles que le **coefficient de détermination R²**, le **RMSE** et la **MAE**."
   ]
  },
  {
   "cell_type": "code",
   "execution_count": 12,
   "id": "4d5ff480",
   "metadata": {},
   "outputs": [
    {
     "name": "stdout",
     "output_type": "stream",
     "text": [
      "R² : 0.62\n",
      "RMSE : 1.31e+07\n",
      "MAE : 5.93e+06\n"
     ]
    }
   ],
   "source": [
    "print(\"R² : {:.2f}\".format(metrics.r2_score(y_test, y_pred)))\n",
    "print('RMSE : {:.2e}'.format(np.sqrt(metrics.mean_squared_error(y_test, y_pred))))\n",
    "print('MAE : {:.2e}'.format(metrics.mean_absolute_error(y_test, y_pred)))"
   ]
  },
  {
   "cell_type": "markdown",
   "id": "cae19ce9",
   "metadata": {},
   "source": [
    "Je vais comparer ce résultat avec une **approche naïve** utilisant un modèle renvoyant la médiane :"
   ]
  },
  {
   "cell_type": "code",
   "execution_count": 13,
   "id": "63c5fa27",
   "metadata": {},
   "outputs": [
    {
     "name": "stdout",
     "output_type": "stream",
     "text": [
      "R² : -0.10\n",
      "RMSE : 2.23e+07\n",
      "MAE : 8.23e+06\n"
     ]
    }
   ],
   "source": [
    "dum = DummyRegressor(strategy='median')\n",
    "\n",
    "# Entraînement\n",
    "dum.fit(X_train, y_train)\n",
    "\n",
    "# Prédiction sur le jeu de test\n",
    "y_pred_dum = dum.predict(X_test)\n",
    "\n",
    "# Evaluation\n",
    "print(\"R² : {:.2f}\".format(metrics.r2_score(y_test, y_pred_dum)))\n",
    "print('RMSE : {:.2e}'.format(np.sqrt(metrics.mean_squared_error(y_test, y_pred_dum))))\n",
    "print('MAE : {:.2e}'.format(metrics.mean_absolute_error(y_test, y_pred_dum)))"
   ]
  },
  {
   "cell_type": "markdown",
   "id": "97278ddd",
   "metadata": {},
   "source": [
    "Quel que soit le type de mesure, **le modèle de régression de base fait mieux que l'approche naïve**."
   ]
  },
  {
   "cell_type": "markdown",
   "id": "8ba2a789",
   "metadata": {},
   "source": [
    "## Modélisations\n",
    "Je vais tester différents modèles basés sur :\n",
    "- les plus proches voisins avec **KNeighbors**\n",
    "- la régression linéaire avec **Ridge**\n",
    "- une SVM à noyaux avec **SVR**\n",
    "- régression ridge à noyau avec **kRR**\n",
    "\n",
    "et aussi en faisant appel aux méthodes ensemblistes telles que :\n",
    "- la méthode parallèle des forêts aléatoires avec **RandomForest**\n",
    "- la méthode séquentielle et de boosting avec **AdaBoost**\n",
    "- la méthode de boosting et descente de gradient avec **GradientBoosting**"
   ]
  },
  {
   "cell_type": "code",
   "execution_count": 14,
   "id": "8cca4668",
   "metadata": {},
   "outputs": [],
   "source": [
    "KNeighbors = make_pipeline(preprocesseur, KNeighborsRegressor(n_jobs=-1))\n",
    "Ridge = make_pipeline(preprocesseur, RidgeCV())\n",
    "SVM = make_pipeline(preprocesseur, SVR())\n",
    "kRR = make_pipeline(preprocesseur, KernelRidge())\n",
    "RandomForest = make_pipeline(preprocesseur, RandomForestRegressor(random_state=39, n_jobs=-1))\n",
    "AdaBoost = make_pipeline(preprocesseur, AdaBoostRegressor(random_state=39))\n",
    "GradientBoosting = make_pipeline(preprocesseur, GradientBoostingRegressor(random_state=39))"
   ]
  },
  {
   "cell_type": "code",
   "execution_count": 15,
   "id": "3721e41f",
   "metadata": {},
   "outputs": [],
   "source": [
    "dict_modeles = {'KNeighbors': KNeighbors,\n",
    "                'Ridge': Ridge,\n",
    "                'SVM': SVM,\n",
    "                'kRR': kRR,\n",
    "                'RandomForest': RandomForest,\n",
    "                'AdaBoost': AdaBoost,\n",
    "                'GradientBoosting': GradientBoosting\n",
    "                }"
   ]
  },
  {
   "cell_type": "markdown",
   "id": "bf294fc8",
   "metadata": {},
   "source": [
    "### Procédure d'évaluation"
   ]
  },
  {
   "cell_type": "code",
   "execution_count": 16,
   "id": "9d10136f",
   "metadata": {},
   "outputs": [],
   "source": [
    "def evaluation(model):\n",
    "    top_depart = timeit.default_timer()\n",
    "    \n",
    "    model.fit(X_train,y_train)\n",
    "    \n",
    "    y_pred = model.predict(X_test)\n",
    "    \n",
    "    temps_calcul = timeit.default_timer() - top_depart\n",
    "    \n",
    "    print(\"Temps de calcul : {:.3f}s\".format(temps_calcul))\n",
    "    print(\"R² : {:.2f}\".format(metrics.r2_score(y_test, y_pred)))\n",
    "    print('RMSE : {:.2e}'.format(np.sqrt(metrics.mean_squared_error(y_test, y_pred))))\n",
    "    print('MAE : {:.2e}'.format(metrics.mean_absolute_error(y_test, y_pred)))\n",
    "    print(\"Ratio Score R² / Temps de calcul : {:.1f}\".format(metrics.r2_score(y_test, y_pred)/temps_calcul))"
   ]
  },
  {
   "cell_type": "code",
   "execution_count": 17,
   "id": "5e5269de",
   "metadata": {
    "scrolled": false
   },
   "outputs": [
    {
     "name": "stdout",
     "output_type": "stream",
     "text": [
      "--------------------------------------------------\n",
      "KNeighbors\n",
      "Temps de calcul : 2.328s\n",
      "R² : 0.33\n",
      "RMSE : 1.74e+07\n",
      "MAE : 5.44e+06\n",
      "Ratio Score R² / Temps de calcul : 0.1\n",
      "--------------------------------------------------\n",
      "Ridge\n",
      "Temps de calcul : 2.232s\n",
      "R² : 0.62\n",
      "RMSE : 1.31e+07\n",
      "MAE : 5.93e+06\n",
      "Ratio Score R² / Temps de calcul : 0.3\n",
      "--------------------------------------------------\n",
      "SVM\n",
      "Temps de calcul : 0.068s\n",
      "R² : -0.10\n",
      "RMSE : 2.23e+07\n",
      "MAE : 8.23e+06\n",
      "Ratio Score R² / Temps de calcul : -1.4\n",
      "--------------------------------------------------\n",
      "kRR\n",
      "Temps de calcul : 0.063s\n",
      "R² : 0.62\n",
      "RMSE : 1.32e+07\n",
      "MAE : 5.98e+06\n",
      "Ratio Score R² / Temps de calcul : 9.8\n",
      "--------------------------------------------------\n",
      "RandomForest\n",
      "Temps de calcul : 0.376s\n",
      "R² : 0.80\n",
      "RMSE : 9.52e+06\n",
      "MAE : 4.42e+06\n",
      "Ratio Score R² / Temps de calcul : 2.1\n",
      "--------------------------------------------------\n",
      "AdaBoost\n",
      "Temps de calcul : 0.167s\n",
      "R² : 0.77\n",
      "RMSE : 1.02e+07\n",
      "MAE : 7.39e+06\n",
      "Ratio Score R² / Temps de calcul : 4.6\n",
      "--------------------------------------------------\n",
      "GradientBoosting\n",
      "Temps de calcul : 0.182s\n",
      "R² : 0.89\n",
      "RMSE : 7.14e+06\n",
      "MAE : 3.69e+06\n",
      "Ratio Score R² / Temps de calcul : 4.9\n"
     ]
    }
   ],
   "source": [
    "for nom, modele in dict_modeles.items():\n",
    "    print('-'*50)\n",
    "    print(nom)\n",
    "    evaluation(modele)"
   ]
  },
  {
   "cell_type": "markdown",
   "id": "6c46fde7",
   "metadata": {},
   "source": [
    "## Optimisation des modèles par validation croisée"
   ]
  },
  {
   "cell_type": "code",
   "execution_count": 18,
   "id": "56ab1c26",
   "metadata": {},
   "outputs": [],
   "source": [
    "hyper_params_modeles = {'KNeighbors': {'kneighborsregressor__n_neighbors': np.arange(5,8)},\n",
    "                        \n",
    "                        'Ridge': {'ridgecv__alphas': np.logspace(-1,1,3)},\n",
    "                        \n",
    "                        'SVM': {'svr__C': np.logspace(7,8,3),\n",
    "                                'svr__gamma': np.logspace(-3,-1,3)},\n",
    "                        \n",
    "                        'kRR': {'kernelridge__alpha': np.logspace(-1,1,3),\n",
    "                                'kernelridge__gamma': np.logspace(-5, -3, 3)},\n",
    "                        \n",
    "                        'RandomForest': {'randomforestregressor__n_estimators': [100, 200, 300]},\n",
    "                        \n",
    "                        'AdaBoost': {'adaboostregressor__loss': ['linear', 'exponential', 'square']},\n",
    "                        \n",
    "                        'GradientBoosting': {'gradientboostingregressor__learning_rate': [0.1,0.2,0.3],\n",
    "                                             'gradientboostingregressor__n_estimators': [72,100,200]}\n",
    "                       }"
   ]
  },
  {
   "cell_type": "code",
   "execution_count": 19,
   "id": "02cdb764",
   "metadata": {
    "scrolled": true
   },
   "outputs": [],
   "source": [
    "def optimisation(model, name):\n",
    "    \n",
    "    \n",
    "    grid = GridSearchCV(model, hyper_params_modeles[name], scoring='r2', cv=5, n_jobs=-1, return_train_score=True)\n",
    "    grid.fit(X_train,y_train)\n",
    "    y_pred_train = grid.best_estimator_.predict(X_train)\n",
    "    y_pred_test = grid.best_estimator_.predict(X_test)\n",
    "    \n",
    "    print(\"Résultats de la validation croisée :\")    \n",
    "    for mean_train_train, std_train_train, params_train_train, mean_test_train, std_test_train, params_test_train in zip(\n",
    "        grid.cv_results_['mean_train_score'], # score moyen sur train de validation\n",
    "        grid.cv_results_['std_train_score'],  # écart-type du score sur train de validation\n",
    "        grid.cv_results_['params'],           # valeur de l'hyperparamètre\n",
    "        grid.cv_results_['mean_test_score'], # score moyen sur fold de test de validation\n",
    "        grid.cv_results_['std_test_score'],  # écart-type du score sur fold de test de validation\n",
    "        grid.cv_results_['params']           # valeur de l'hyperparamètre\n",
    "        ):\n",
    "        print(\"R² moyen sur les folds du jeu d'entraînement dans la CV = {:.2f} (+/-{:.02f}) pour {}\".format(\n",
    "            mean_train_train,\n",
    "            std_train_train*2,\n",
    "            params_train_train\n",
    "        ))\n",
    "        print(\"R² moyen sur les folds du jeu de test dans la CV = {:.2f} (+/-{:.02f}) pour {}\".format(\n",
    "            mean_test_train,\n",
    "            std_test_train*2,\n",
    "            params_test_train\n",
    "        ))\n",
    "    \n",
    "    print('Meilleurs hyper-paramètres :',grid.best_params_)\n",
    "    print(\"\\nR² sur le jeu d'entraînement complet : {:.2f}\".format(metrics.r2_score(y_train, y_pred_train)))\n",
    "    print(\"R² sur le jeu de test : {:.2f}\".format(metrics.r2_score(y_test, y_pred_test)))"
   ]
  },
  {
   "cell_type": "code",
   "execution_count": 20,
   "id": "96a2d159",
   "metadata": {
    "scrolled": false
   },
   "outputs": [
    {
     "name": "stdout",
     "output_type": "stream",
     "text": [
      "------------------------------------------------------------------------------------------\n",
      "KNeighbors\n",
      "Résultats de la validation croisée :\n",
      "R² moyen sur les folds du jeu d'entraînement dans la CV = 0.48 (+/-0.10) pour {'kneighborsregressor__n_neighbors': 5}\n",
      "R² moyen sur les folds du jeu de test dans la CV = 0.34 (+/-0.34) pour {'kneighborsregressor__n_neighbors': 5}\n",
      "R² moyen sur les folds du jeu d'entraînement dans la CV = 0.48 (+/-0.08) pour {'kneighborsregressor__n_neighbors': 6}\n",
      "R² moyen sur les folds du jeu de test dans la CV = 0.36 (+/-0.38) pour {'kneighborsregressor__n_neighbors': 6}\n",
      "R² moyen sur les folds du jeu d'entraînement dans la CV = 0.45 (+/-0.05) pour {'kneighborsregressor__n_neighbors': 7}\n",
      "R² moyen sur les folds du jeu de test dans la CV = 0.34 (+/-0.36) pour {'kneighborsregressor__n_neighbors': 7}\n",
      "Meilleurs hyper-paramètres : {'kneighborsregressor__n_neighbors': 6}\n",
      "\n",
      "R² sur le jeu d'entraînement complet : 0.48\n",
      "R² sur le jeu de test : 0.50\n",
      "------------------------------------------------------------------------------------------\n",
      "Ridge\n",
      "Résultats de la validation croisée :\n",
      "R² moyen sur les folds du jeu d'entraînement dans la CV = 0.53 (+/-0.07) pour {'ridgecv__alphas': 0.1}\n",
      "R² moyen sur les folds du jeu de test dans la CV = 0.01 (+/-1.34) pour {'ridgecv__alphas': 0.1}\n",
      "R² moyen sur les folds du jeu d'entraînement dans la CV = 0.52 (+/-0.07) pour {'ridgecv__alphas': 1.0}\n",
      "R² moyen sur les folds du jeu de test dans la CV = 0.00 (+/-1.50) pour {'ridgecv__alphas': 1.0}\n",
      "R² moyen sur les folds du jeu d'entraînement dans la CV = 0.43 (+/-0.08) pour {'ridgecv__alphas': 10.0}\n",
      "R² moyen sur les folds du jeu de test dans la CV = -0.16 (+/-2.09) pour {'ridgecv__alphas': 10.0}\n",
      "Meilleurs hyper-paramètres : {'ridgecv__alphas': 0.1}\n",
      "\n",
      "R² sur le jeu d'entraînement complet : 0.50\n",
      "R² sur le jeu de test : 0.62\n",
      "------------------------------------------------------------------------------------------\n",
      "SVM\n",
      "Résultats de la validation croisée :\n",
      "R² moyen sur les folds du jeu d'entraînement dans la CV = 0.29 (+/-0.04) pour {'svr__C': 10000000.0, 'svr__gamma': 0.001}\n",
      "R² moyen sur les folds du jeu de test dans la CV = 0.32 (+/-0.26) pour {'svr__C': 10000000.0, 'svr__gamma': 0.001}\n",
      "R² moyen sur les folds du jeu d'entraînement dans la CV = 0.31 (+/-0.05) pour {'svr__C': 10000000.0, 'svr__gamma': 0.01}\n",
      "R² moyen sur les folds du jeu de test dans la CV = 0.31 (+/-0.17) pour {'svr__C': 10000000.0, 'svr__gamma': 0.01}\n",
      "R² moyen sur les folds du jeu d'entraînement dans la CV = 0.32 (+/-0.04) pour {'svr__C': 10000000.0, 'svr__gamma': 0.1}\n",
      "R² moyen sur les folds du jeu de test dans la CV = 0.28 (+/-0.16) pour {'svr__C': 10000000.0, 'svr__gamma': 0.1}\n",
      "R² moyen sur les folds du jeu d'entraînement dans la CV = 0.32 (+/-0.05) pour {'svr__C': 31622776.60168379, 'svr__gamma': 0.001}\n",
      "R² moyen sur les folds du jeu de test dans la CV = 0.34 (+/-0.28) pour {'svr__C': 31622776.60168379, 'svr__gamma': 0.001}\n",
      "R² moyen sur les folds du jeu d'entraînement dans la CV = 0.35 (+/-0.04) pour {'svr__C': 31622776.60168379, 'svr__gamma': 0.01}\n",
      "R² moyen sur les folds du jeu de test dans la CV = 0.35 (+/-0.23) pour {'svr__C': 31622776.60168379, 'svr__gamma': 0.01}\n",
      "R² moyen sur les folds du jeu d'entraînement dans la CV = 0.46 (+/-0.05) pour {'svr__C': 31622776.60168379, 'svr__gamma': 0.1}\n",
      "R² moyen sur les folds du jeu de test dans la CV = 0.33 (+/-0.21) pour {'svr__C': 31622776.60168379, 'svr__gamma': 0.1}\n",
      "R² moyen sur les folds du jeu d'entraînement dans la CV = 0.34 (+/-0.05) pour {'svr__C': 100000000.0, 'svr__gamma': 0.001}\n",
      "R² moyen sur les folds du jeu de test dans la CV = 0.36 (+/-0.27) pour {'svr__C': 100000000.0, 'svr__gamma': 0.001}\n",
      "R² moyen sur les folds du jeu d'entraînement dans la CV = 0.41 (+/-0.06) pour {'svr__C': 100000000.0, 'svr__gamma': 0.01}\n",
      "R² moyen sur les folds du jeu de test dans la CV = 0.38 (+/-0.25) pour {'svr__C': 100000000.0, 'svr__gamma': 0.01}\n",
      "R² moyen sur les folds du jeu d'entraînement dans la CV = 0.67 (+/-0.06) pour {'svr__C': 100000000.0, 'svr__gamma': 0.1}\n",
      "R² moyen sur les folds du jeu de test dans la CV = 0.38 (+/-0.27) pour {'svr__C': 100000000.0, 'svr__gamma': 0.1}\n",
      "Meilleurs hyper-paramètres : {'svr__C': 100000000.0, 'svr__gamma': 0.1}\n",
      "\n",
      "R² sur le jeu d'entraînement complet : 0.66\n",
      "R² sur le jeu de test : 0.44\n",
      "------------------------------------------------------------------------------------------\n",
      "kRR\n",
      "Résultats de la validation croisée :\n",
      "R² moyen sur les folds du jeu d'entraînement dans la CV = 0.53 (+/-0.07) pour {'kernelridge__alpha': 0.1, 'kernelridge__gamma': 1e-05}\n",
      "R² moyen sur les folds du jeu de test dans la CV = 0.01 (+/-1.34) pour {'kernelridge__alpha': 0.1, 'kernelridge__gamma': 1e-05}\n",
      "R² moyen sur les folds du jeu d'entraînement dans la CV = 0.53 (+/-0.07) pour {'kernelridge__alpha': 0.1, 'kernelridge__gamma': 0.0001}\n",
      "R² moyen sur les folds du jeu de test dans la CV = 0.01 (+/-1.34) pour {'kernelridge__alpha': 0.1, 'kernelridge__gamma': 0.0001}\n",
      "R² moyen sur les folds du jeu d'entraînement dans la CV = 0.53 (+/-0.07) pour {'kernelridge__alpha': 0.1, 'kernelridge__gamma': 0.001}\n",
      "R² moyen sur les folds du jeu de test dans la CV = 0.01 (+/-1.34) pour {'kernelridge__alpha': 0.1, 'kernelridge__gamma': 0.001}\n",
      "R² moyen sur les folds du jeu d'entraînement dans la CV = 0.52 (+/-0.07) pour {'kernelridge__alpha': 1.0, 'kernelridge__gamma': 1e-05}\n",
      "R² moyen sur les folds du jeu de test dans la CV = -0.00 (+/-1.51) pour {'kernelridge__alpha': 1.0, 'kernelridge__gamma': 1e-05}\n",
      "R² moyen sur les folds du jeu d'entraînement dans la CV = 0.52 (+/-0.07) pour {'kernelridge__alpha': 1.0, 'kernelridge__gamma': 0.0001}\n",
      "R² moyen sur les folds du jeu de test dans la CV = -0.00 (+/-1.51) pour {'kernelridge__alpha': 1.0, 'kernelridge__gamma': 0.0001}\n",
      "R² moyen sur les folds du jeu d'entraînement dans la CV = 0.52 (+/-0.07) pour {'kernelridge__alpha': 1.0, 'kernelridge__gamma': 0.001}\n",
      "R² moyen sur les folds du jeu de test dans la CV = -0.00 (+/-1.51) pour {'kernelridge__alpha': 1.0, 'kernelridge__gamma': 0.001}\n",
      "R² moyen sur les folds du jeu d'entraînement dans la CV = 0.42 (+/-0.09) pour {'kernelridge__alpha': 10.0, 'kernelridge__gamma': 1e-05}\n",
      "R² moyen sur les folds du jeu de test dans la CV = -0.18 (+/-2.13) pour {'kernelridge__alpha': 10.0, 'kernelridge__gamma': 1e-05}\n",
      "R² moyen sur les folds du jeu d'entraînement dans la CV = 0.42 (+/-0.09) pour {'kernelridge__alpha': 10.0, 'kernelridge__gamma': 0.0001}\n",
      "R² moyen sur les folds du jeu de test dans la CV = -0.18 (+/-2.13) pour {'kernelridge__alpha': 10.0, 'kernelridge__gamma': 0.0001}\n",
      "R² moyen sur les folds du jeu d'entraînement dans la CV = 0.42 (+/-0.09) pour {'kernelridge__alpha': 10.0, 'kernelridge__gamma': 0.001}\n",
      "R² moyen sur les folds du jeu de test dans la CV = -0.18 (+/-2.13) pour {'kernelridge__alpha': 10.0, 'kernelridge__gamma': 0.001}\n",
      "Meilleurs hyper-paramètres : {'kernelridge__alpha': 0.1, 'kernelridge__gamma': 1e-05}\n",
      "\n",
      "R² sur le jeu d'entraînement complet : 0.50\n",
      "R² sur le jeu de test : 0.62\n",
      "------------------------------------------------------------------------------------------\n",
      "RandomForest\n",
      "Résultats de la validation croisée :\n",
      "R² moyen sur les folds du jeu d'entraînement dans la CV = 0.93 (+/-0.02) pour {'randomforestregressor__n_estimators': 100}\n",
      "R² moyen sur les folds du jeu de test dans la CV = 0.49 (+/-0.41) pour {'randomforestregressor__n_estimators': 100}\n",
      "R² moyen sur les folds du jeu d'entraînement dans la CV = 0.93 (+/-0.01) pour {'randomforestregressor__n_estimators': 200}\n",
      "R² moyen sur les folds du jeu de test dans la CV = 0.50 (+/-0.40) pour {'randomforestregressor__n_estimators': 200}\n",
      "R² moyen sur les folds du jeu d'entraînement dans la CV = 0.94 (+/-0.01) pour {'randomforestregressor__n_estimators': 300}\n",
      "R² moyen sur les folds du jeu de test dans la CV = 0.50 (+/-0.39) pour {'randomforestregressor__n_estimators': 300}\n",
      "Meilleurs hyper-paramètres : {'randomforestregressor__n_estimators': 200}\n",
      "\n",
      "R² sur le jeu d'entraînement complet : 0.94\n",
      "R² sur le jeu de test : 0.81\n",
      "------------------------------------------------------------------------------------------\n",
      "AdaBoost\n",
      "Résultats de la validation croisée :\n",
      "R² moyen sur les folds du jeu d'entraînement dans la CV = 0.78 (+/-0.29) pour {'adaboostregressor__loss': 'linear'}\n",
      "R² moyen sur les folds du jeu de test dans la CV = 0.21 (+/-0.52) pour {'adaboostregressor__loss': 'linear'}\n",
      "R² moyen sur les folds du jeu d'entraînement dans la CV = 0.61 (+/-0.38) pour {'adaboostregressor__loss': 'exponential'}\n",
      "R² moyen sur les folds du jeu de test dans la CV = 0.05 (+/-0.61) pour {'adaboostregressor__loss': 'exponential'}\n",
      "R² moyen sur les folds du jeu d'entraînement dans la CV = 0.85 (+/-0.08) pour {'adaboostregressor__loss': 'square'}\n",
      "R² moyen sur les folds du jeu de test dans la CV = 0.36 (+/-0.46) pour {'adaboostregressor__loss': 'square'}\n",
      "Meilleurs hyper-paramètres : {'adaboostregressor__loss': 'square'}\n",
      "\n",
      "R² sur le jeu d'entraînement complet : 0.85\n",
      "R² sur le jeu de test : 0.76\n",
      "------------------------------------------------------------------------------------------\n",
      "GradientBoosting\n",
      "Résultats de la validation croisée :\n",
      "R² moyen sur les folds du jeu d'entraînement dans la CV = 0.94 (+/-0.01) pour {'gradientboostingregressor__learning_rate': 0.1, 'gradientboostingregressor__n_estimators': 72}\n",
      "R² moyen sur les folds du jeu de test dans la CV = 0.40 (+/-0.66) pour {'gradientboostingregressor__learning_rate': 0.1, 'gradientboostingregressor__n_estimators': 72}\n",
      "R² moyen sur les folds du jeu d'entraînement dans la CV = 0.95 (+/-0.01) pour {'gradientboostingregressor__learning_rate': 0.1, 'gradientboostingregressor__n_estimators': 100}\n",
      "R² moyen sur les folds du jeu de test dans la CV = 0.39 (+/-0.67) pour {'gradientboostingregressor__learning_rate': 0.1, 'gradientboostingregressor__n_estimators': 100}\n",
      "R² moyen sur les folds du jeu d'entraînement dans la CV = 0.97 (+/-0.01) pour {'gradientboostingregressor__learning_rate': 0.1, 'gradientboostingregressor__n_estimators': 200}\n",
      "R² moyen sur les folds du jeu de test dans la CV = 0.38 (+/-0.70) pour {'gradientboostingregressor__learning_rate': 0.1, 'gradientboostingregressor__n_estimators': 200}\n",
      "R² moyen sur les folds du jeu d'entraînement dans la CV = 0.97 (+/-0.01) pour {'gradientboostingregressor__learning_rate': 0.2, 'gradientboostingregressor__n_estimators': 72}\n",
      "R² moyen sur les folds du jeu de test dans la CV = 0.42 (+/-0.66) pour {'gradientboostingregressor__learning_rate': 0.2, 'gradientboostingregressor__n_estimators': 72}\n",
      "R² moyen sur les folds du jeu d'entraînement dans la CV = 0.98 (+/-0.01) pour {'gradientboostingregressor__learning_rate': 0.2, 'gradientboostingregressor__n_estimators': 100}\n",
      "R² moyen sur les folds du jeu de test dans la CV = 0.41 (+/-0.69) pour {'gradientboostingregressor__learning_rate': 0.2, 'gradientboostingregressor__n_estimators': 100}\n",
      "R² moyen sur les folds du jeu d'entraînement dans la CV = 0.99 (+/-0.00) pour {'gradientboostingregressor__learning_rate': 0.2, 'gradientboostingregressor__n_estimators': 200}\n",
      "R² moyen sur les folds du jeu de test dans la CV = 0.41 (+/-0.68) pour {'gradientboostingregressor__learning_rate': 0.2, 'gradientboostingregressor__n_estimators': 200}\n",
      "R² moyen sur les folds du jeu d'entraînement dans la CV = 0.98 (+/-0.00) pour {'gradientboostingregressor__learning_rate': 0.3, 'gradientboostingregressor__n_estimators': 72}\n",
      "R² moyen sur les folds du jeu de test dans la CV = 0.32 (+/-0.81) pour {'gradientboostingregressor__learning_rate': 0.3, 'gradientboostingregressor__n_estimators': 72}\n",
      "R² moyen sur les folds du jeu d'entraînement dans la CV = 0.99 (+/-0.00) pour {'gradientboostingregressor__learning_rate': 0.3, 'gradientboostingregressor__n_estimators': 100}\n",
      "R² moyen sur les folds du jeu de test dans la CV = 0.32 (+/-0.81) pour {'gradientboostingregressor__learning_rate': 0.3, 'gradientboostingregressor__n_estimators': 100}\n",
      "R² moyen sur les folds du jeu d'entraînement dans la CV = 1.00 (+/-0.00) pour {'gradientboostingregressor__learning_rate': 0.3, 'gradientboostingregressor__n_estimators': 200}\n",
      "R² moyen sur les folds du jeu de test dans la CV = 0.31 (+/-0.81) pour {'gradientboostingregressor__learning_rate': 0.3, 'gradientboostingregressor__n_estimators': 200}\n",
      "Meilleurs hyper-paramètres : {'gradientboostingregressor__learning_rate': 0.2, 'gradientboostingregressor__n_estimators': 72}\n",
      "\n",
      "R² sur le jeu d'entraînement complet : 0.96\n",
      "R² sur le jeu de test : 0.90\n"
     ]
    }
   ],
   "source": [
    "for nom, modele in dict_modeles.items():\n",
    "    print('-'*90)\n",
    "    print(nom)\n",
    "    optimisation(modele, nom)"
   ]
  },
  {
   "cell_type": "markdown",
   "id": "1a722100",
   "metadata": {},
   "source": [
    "## Intérêt de l'*ENERGYSTARScore* ?"
   ]
  },
  {
   "cell_type": "code",
   "execution_count": 21,
   "id": "6b3f8f67",
   "metadata": {},
   "outputs": [
    {
     "data": {
      "text/html": [
       "<div>\n",
       "<style scoped>\n",
       "    .dataframe tbody tr th:only-of-type {\n",
       "        vertical-align: middle;\n",
       "    }\n",
       "\n",
       "    .dataframe tbody tr th {\n",
       "        vertical-align: top;\n",
       "    }\n",
       "\n",
       "    .dataframe thead th {\n",
       "        text-align: right;\n",
       "    }\n",
       "</style>\n",
       "<table border=\"1\" class=\"dataframe\">\n",
       "  <thead>\n",
       "    <tr style=\"text-align: right;\">\n",
       "      <th></th>\n",
       "      <th>SiteEnergyUseWN(kBtu)</th>\n",
       "      <th>NumberofBuildings</th>\n",
       "      <th>NumberofFloors</th>\n",
       "      <th>PropertyGFATotal</th>\n",
       "      <th>Age</th>\n",
       "      <th>ENERGYSTARScore</th>\n",
       "    </tr>\n",
       "  </thead>\n",
       "  <tbody>\n",
       "    <tr>\n",
       "      <th>count</th>\n",
       "      <td>1.210000e+03</td>\n",
       "      <td>1210.000000</td>\n",
       "      <td>1210.000000</td>\n",
       "      <td>1.210000e+03</td>\n",
       "      <td>1210.000000</td>\n",
       "      <td>807.000000</td>\n",
       "    </tr>\n",
       "    <tr>\n",
       "      <th>mean</th>\n",
       "      <td>8.738387e+06</td>\n",
       "      <td>0.037190</td>\n",
       "      <td>4.191736</td>\n",
       "      <td>1.283185e+05</td>\n",
       "      <td>52.023140</td>\n",
       "      <td>64.094176</td>\n",
       "    </tr>\n",
       "    <tr>\n",
       "      <th>std</th>\n",
       "      <td>2.083612e+07</td>\n",
       "      <td>0.189306</td>\n",
       "      <td>5.978976</td>\n",
       "      <td>3.299063e+05</td>\n",
       "      <td>32.524895</td>\n",
       "      <td>28.543399</td>\n",
       "    </tr>\n",
       "    <tr>\n",
       "      <th>min</th>\n",
       "      <td>0.000000e+00</td>\n",
       "      <td>0.000000</td>\n",
       "      <td>0.000000</td>\n",
       "      <td>1.168500e+04</td>\n",
       "      <td>1.000000</td>\n",
       "      <td>1.000000</td>\n",
       "    </tr>\n",
       "    <tr>\n",
       "      <th>25%</th>\n",
       "      <td>1.575988e+06</td>\n",
       "      <td>0.000000</td>\n",
       "      <td>1.000000</td>\n",
       "      <td>3.165125e+04</td>\n",
       "      <td>24.000000</td>\n",
       "      <td>47.000000</td>\n",
       "    </tr>\n",
       "    <tr>\n",
       "      <th>50%</th>\n",
       "      <td>3.353538e+06</td>\n",
       "      <td>0.000000</td>\n",
       "      <td>3.000000</td>\n",
       "      <td>5.481400e+04</td>\n",
       "      <td>48.000000</td>\n",
       "      <td>72.000000</td>\n",
       "    </tr>\n",
       "    <tr>\n",
       "      <th>75%</th>\n",
       "      <td>8.292118e+06</td>\n",
       "      <td>0.000000</td>\n",
       "      <td>4.750000</td>\n",
       "      <td>1.223442e+05</td>\n",
       "      <td>85.000000</td>\n",
       "      <td>88.000000</td>\n",
       "    </tr>\n",
       "    <tr>\n",
       "      <th>max</th>\n",
       "      <td>2.966717e+08</td>\n",
       "      <td>1.000000</td>\n",
       "      <td>76.000000</td>\n",
       "      <td>9.320156e+06</td>\n",
       "      <td>116.000000</td>\n",
       "      <td>100.000000</td>\n",
       "    </tr>\n",
       "  </tbody>\n",
       "</table>\n",
       "</div>"
      ],
      "text/plain": [
       "       SiteEnergyUseWN(kBtu)  NumberofBuildings  NumberofFloors  \\\n",
       "count           1.210000e+03        1210.000000     1210.000000   \n",
       "mean            8.738387e+06           0.037190        4.191736   \n",
       "std             2.083612e+07           0.189306        5.978976   \n",
       "min             0.000000e+00           0.000000        0.000000   \n",
       "25%             1.575988e+06           0.000000        1.000000   \n",
       "50%             3.353538e+06           0.000000        3.000000   \n",
       "75%             8.292118e+06           0.000000        4.750000   \n",
       "max             2.966717e+08           1.000000       76.000000   \n",
       "\n",
       "       PropertyGFATotal          Age  ENERGYSTARScore  \n",
       "count      1.210000e+03  1210.000000       807.000000  \n",
       "mean       1.283185e+05    52.023140        64.094176  \n",
       "std        3.299063e+05    32.524895        28.543399  \n",
       "min        1.168500e+04     1.000000         1.000000  \n",
       "25%        3.165125e+04    24.000000        47.000000  \n",
       "50%        5.481400e+04    48.000000        72.000000  \n",
       "75%        1.223442e+05    85.000000        88.000000  \n",
       "max        9.320156e+06   116.000000       100.000000  "
      ]
     },
     "execution_count": 21,
     "metadata": {},
     "output_type": "execute_result"
    }
   ],
   "source": [
    "data.describe()"
   ]
  },
  {
   "cell_type": "markdown",
   "id": "5aab86ae",
   "metadata": {},
   "source": [
    "Les modalités sont incomplètes pour *ENERGYSTARScore*.\n",
    "\n",
    "Je vais conserver seulement celles qui ne le sont pas."
   ]
  },
  {
   "cell_type": "code",
   "execution_count": 22,
   "id": "75d3d563",
   "metadata": {},
   "outputs": [],
   "source": [
    "df_ess = data.loc[data['ENERGYSTARScore'].notna()]"
   ]
  },
  {
   "cell_type": "markdown",
   "id": "35bcd0eb",
   "metadata": {},
   "source": [
    "Je relance tout le processus à partir de ce nouveau dataframe :"
   ]
  },
  {
   "cell_type": "code",
   "execution_count": 23,
   "id": "6c7710d9",
   "metadata": {},
   "outputs": [],
   "source": [
    "X = df_ess.drop(columns='SiteEnergyUseWN(kBtu)')\n",
    "y = df_ess['SiteEnergyUseWN(kBtu)']"
   ]
  },
  {
   "cell_type": "code",
   "execution_count": 24,
   "id": "13d3223a",
   "metadata": {},
   "outputs": [],
   "source": [
    "X_train, X_test, y_train, y_test = train_test_split(X, y, test_size=0.2, random_state=39)"
   ]
  },
  {
   "cell_type": "code",
   "execution_count": 25,
   "id": "7735a2f6",
   "metadata": {
    "scrolled": false
   },
   "outputs": [
    {
     "name": "stdout",
     "output_type": "stream",
     "text": [
      "------------------------------------------------------------------------------------------\n",
      "KNeighbors avec ENERGYSTARScore\n",
      "Résultats de la validation croisée :\n",
      "R² moyen sur les folds du jeu d'entraînement dans la CV = 0.54 (+/-0.13) pour {'kneighborsregressor__n_neighbors': 5}\n",
      "R² moyen sur les folds du jeu de test dans la CV = 0.39 (+/-0.39) pour {'kneighborsregressor__n_neighbors': 5}\n",
      "R² moyen sur les folds du jeu d'entraînement dans la CV = 0.53 (+/-0.13) pour {'kneighborsregressor__n_neighbors': 6}\n",
      "R² moyen sur les folds du jeu de test dans la CV = 0.46 (+/-0.32) pour {'kneighborsregressor__n_neighbors': 6}\n",
      "R² moyen sur les folds du jeu d'entraînement dans la CV = 0.50 (+/-0.11) pour {'kneighborsregressor__n_neighbors': 7}\n",
      "R² moyen sur les folds du jeu de test dans la CV = 0.44 (+/-0.23) pour {'kneighborsregressor__n_neighbors': 7}\n",
      "Meilleurs hyper-paramètres : {'kneighborsregressor__n_neighbors': 6}\n",
      "\n",
      "R² sur le jeu d'entraînement complet : 0.53\n",
      "R² sur le jeu de test : 0.54\n",
      "------------------------------------------------------------------------------------------\n",
      "Ridge avec ENERGYSTARScore\n",
      "Résultats de la validation croisée :\n",
      "R² moyen sur les folds du jeu d'entraînement dans la CV = 0.69 (+/-0.16) pour {'ridgecv__alphas': 0.1}\n",
      "R² moyen sur les folds du jeu de test dans la CV = 0.21 (+/-0.98) pour {'ridgecv__alphas': 0.1}\n",
      "R² moyen sur les folds du jeu d'entraînement dans la CV = 0.68 (+/-0.16) pour {'ridgecv__alphas': 1.0}\n",
      "R² moyen sur les folds du jeu de test dans la CV = 0.30 (+/-0.78) pour {'ridgecv__alphas': 1.0}\n",
      "R² moyen sur les folds du jeu d'entraînement dans la CV = 0.61 (+/-0.15) pour {'ridgecv__alphas': 10.0}\n",
      "R² moyen sur les folds du jeu de test dans la CV = 0.39 (+/-0.45) pour {'ridgecv__alphas': 10.0}\n",
      "Meilleurs hyper-paramètres : {'ridgecv__alphas': 10.0}\n",
      "\n",
      "R² sur le jeu d'entraînement complet : 0.61\n",
      "R² sur le jeu de test : 0.66\n",
      "------------------------------------------------------------------------------------------\n",
      "SVM avec ENERGYSTARScore\n",
      "Résultats de la validation croisée :\n",
      "R² moyen sur les folds du jeu d'entraînement dans la CV = 0.25 (+/-0.03) pour {'svr__C': 10000000.0, 'svr__gamma': 0.001}\n",
      "R² moyen sur les folds du jeu de test dans la CV = 0.37 (+/-0.40) pour {'svr__C': 10000000.0, 'svr__gamma': 0.001}\n",
      "R² moyen sur les folds du jeu d'entraînement dans la CV = 0.26 (+/-0.02) pour {'svr__C': 10000000.0, 'svr__gamma': 0.01}\n",
      "R² moyen sur les folds du jeu de test dans la CV = 0.39 (+/-0.45) pour {'svr__C': 10000000.0, 'svr__gamma': 0.01}\n",
      "R² moyen sur les folds du jeu d'entraînement dans la CV = 0.28 (+/-0.04) pour {'svr__C': 10000000.0, 'svr__gamma': 0.1}\n",
      "R² moyen sur les folds du jeu de test dans la CV = 0.39 (+/-0.50) pour {'svr__C': 10000000.0, 'svr__gamma': 0.1}\n",
      "R² moyen sur les folds du jeu d'entraînement dans la CV = 0.30 (+/-0.03) pour {'svr__C': 31622776.60168379, 'svr__gamma': 0.001}\n",
      "R² moyen sur les folds du jeu de test dans la CV = 0.41 (+/-0.39) pour {'svr__C': 31622776.60168379, 'svr__gamma': 0.001}\n",
      "R² moyen sur les folds du jeu d'entraînement dans la CV = 0.34 (+/-0.03) pour {'svr__C': 31622776.60168379, 'svr__gamma': 0.01}\n",
      "R² moyen sur les folds du jeu de test dans la CV = 0.44 (+/-0.45) pour {'svr__C': 31622776.60168379, 'svr__gamma': 0.01}\n",
      "R² moyen sur les folds du jeu d'entraînement dans la CV = 0.42 (+/-0.03) pour {'svr__C': 31622776.60168379, 'svr__gamma': 0.1}\n",
      "R² moyen sur les folds du jeu de test dans la CV = 0.44 (+/-0.49) pour {'svr__C': 31622776.60168379, 'svr__gamma': 0.1}\n",
      "R² moyen sur les folds du jeu d'entraînement dans la CV = 0.33 (+/-0.04) pour {'svr__C': 100000000.0, 'svr__gamma': 0.001}\n",
      "R² moyen sur les folds du jeu de test dans la CV = 0.41 (+/-0.35) pour {'svr__C': 100000000.0, 'svr__gamma': 0.001}\n",
      "R² moyen sur les folds du jeu d'entraînement dans la CV = 0.46 (+/-0.09) pour {'svr__C': 100000000.0, 'svr__gamma': 0.01}\n",
      "R² moyen sur les folds du jeu de test dans la CV = 0.48 (+/-0.40) pour {'svr__C': 100000000.0, 'svr__gamma': 0.01}\n",
      "R² moyen sur les folds du jeu d'entraînement dans la CV = 0.67 (+/-0.05) pour {'svr__C': 100000000.0, 'svr__gamma': 0.1}\n",
      "R² moyen sur les folds du jeu de test dans la CV = 0.45 (+/-0.43) pour {'svr__C': 100000000.0, 'svr__gamma': 0.1}\n",
      "Meilleurs hyper-paramètres : {'svr__C': 100000000.0, 'svr__gamma': 0.01}\n",
      "\n",
      "R² sur le jeu d'entraînement complet : 0.48\n",
      "R² sur le jeu de test : 0.55\n",
      "------------------------------------------------------------------------------------------\n",
      "kRR avec ENERGYSTARScore\n",
      "Résultats de la validation croisée :\n",
      "R² moyen sur les folds du jeu d'entraînement dans la CV = 0.69 (+/-0.16) pour {'kernelridge__alpha': 0.1, 'kernelridge__gamma': 1e-05}\n",
      "R² moyen sur les folds du jeu de test dans la CV = 0.21 (+/-0.98) pour {'kernelridge__alpha': 0.1, 'kernelridge__gamma': 1e-05}\n",
      "R² moyen sur les folds du jeu d'entraînement dans la CV = 0.69 (+/-0.16) pour {'kernelridge__alpha': 0.1, 'kernelridge__gamma': 0.0001}\n",
      "R² moyen sur les folds du jeu de test dans la CV = 0.21 (+/-0.98) pour {'kernelridge__alpha': 0.1, 'kernelridge__gamma': 0.0001}\n",
      "R² moyen sur les folds du jeu d'entraînement dans la CV = 0.69 (+/-0.16) pour {'kernelridge__alpha': 0.1, 'kernelridge__gamma': 0.001}\n",
      "R² moyen sur les folds du jeu de test dans la CV = 0.21 (+/-0.98) pour {'kernelridge__alpha': 0.1, 'kernelridge__gamma': 0.001}\n",
      "R² moyen sur les folds du jeu d'entraînement dans la CV = 0.68 (+/-0.16) pour {'kernelridge__alpha': 1.0, 'kernelridge__gamma': 1e-05}\n",
      "R² moyen sur les folds du jeu de test dans la CV = 0.30 (+/-0.77) pour {'kernelridge__alpha': 1.0, 'kernelridge__gamma': 1e-05}\n",
      "R² moyen sur les folds du jeu d'entraînement dans la CV = 0.68 (+/-0.16) pour {'kernelridge__alpha': 1.0, 'kernelridge__gamma': 0.0001}\n",
      "R² moyen sur les folds du jeu de test dans la CV = 0.30 (+/-0.77) pour {'kernelridge__alpha': 1.0, 'kernelridge__gamma': 0.0001}\n",
      "R² moyen sur les folds du jeu d'entraînement dans la CV = 0.68 (+/-0.16) pour {'kernelridge__alpha': 1.0, 'kernelridge__gamma': 0.001}\n",
      "R² moyen sur les folds du jeu de test dans la CV = 0.30 (+/-0.77) pour {'kernelridge__alpha': 1.0, 'kernelridge__gamma': 0.001}\n",
      "R² moyen sur les folds du jeu d'entraînement dans la CV = 0.61 (+/-0.15) pour {'kernelridge__alpha': 10.0, 'kernelridge__gamma': 1e-05}\n",
      "R² moyen sur les folds du jeu de test dans la CV = 0.39 (+/-0.45) pour {'kernelridge__alpha': 10.0, 'kernelridge__gamma': 1e-05}\n",
      "R² moyen sur les folds du jeu d'entraînement dans la CV = 0.61 (+/-0.15) pour {'kernelridge__alpha': 10.0, 'kernelridge__gamma': 0.0001}\n",
      "R² moyen sur les folds du jeu de test dans la CV = 0.39 (+/-0.45) pour {'kernelridge__alpha': 10.0, 'kernelridge__gamma': 0.0001}\n",
      "R² moyen sur les folds du jeu d'entraînement dans la CV = 0.61 (+/-0.15) pour {'kernelridge__alpha': 10.0, 'kernelridge__gamma': 0.001}\n",
      "R² moyen sur les folds du jeu de test dans la CV = 0.39 (+/-0.45) pour {'kernelridge__alpha': 10.0, 'kernelridge__gamma': 0.001}\n",
      "Meilleurs hyper-paramètres : {'kernelridge__alpha': 10.0, 'kernelridge__gamma': 1e-05}\n",
      "\n",
      "R² sur le jeu d'entraînement complet : 0.61\n",
      "R² sur le jeu de test : 0.66\n",
      "------------------------------------------------------------------------------------------\n",
      "RandomForest avec ENERGYSTARScore\n",
      "Résultats de la validation croisée :\n",
      "R² moyen sur les folds du jeu d'entraînement dans la CV = 0.94 (+/-0.04) pour {'randomforestregressor__n_estimators': 100}\n",
      "R² moyen sur les folds du jeu de test dans la CV = 0.44 (+/-0.56) pour {'randomforestregressor__n_estimators': 100}\n",
      "R² moyen sur les folds du jeu d'entraînement dans la CV = 0.93 (+/-0.03) pour {'randomforestregressor__n_estimators': 200}\n",
      "R² moyen sur les folds du jeu de test dans la CV = 0.45 (+/-0.54) pour {'randomforestregressor__n_estimators': 200}\n",
      "R² moyen sur les folds du jeu d'entraînement dans la CV = 0.93 (+/-0.03) pour {'randomforestregressor__n_estimators': 300}\n",
      "R² moyen sur les folds du jeu de test dans la CV = 0.45 (+/-0.54) pour {'randomforestregressor__n_estimators': 300}\n",
      "Meilleurs hyper-paramètres : {'randomforestregressor__n_estimators': 300}\n",
      "\n",
      "R² sur le jeu d'entraînement complet : 0.95\n",
      "R² sur le jeu de test : 0.90\n",
      "------------------------------------------------------------------------------------------\n",
      "AdaBoost avec ENERGYSTARScore\n",
      "Résultats de la validation croisée :\n",
      "R² moyen sur les folds du jeu d'entraînement dans la CV = 0.88 (+/-0.06) pour {'adaboostregressor__loss': 'linear'}\n",
      "R² moyen sur les folds du jeu de test dans la CV = 0.28 (+/-0.79) pour {'adaboostregressor__loss': 'linear'}\n",
      "R² moyen sur les folds du jeu d'entraînement dans la CV = 0.81 (+/-0.06) pour {'adaboostregressor__loss': 'exponential'}\n",
      "R² moyen sur les folds du jeu de test dans la CV = 0.15 (+/-1.00) pour {'adaboostregressor__loss': 'exponential'}\n",
      "R² moyen sur les folds du jeu d'entraînement dans la CV = 0.80 (+/-0.16) pour {'adaboostregressor__loss': 'square'}\n",
      "R² moyen sur les folds du jeu de test dans la CV = 0.16 (+/-0.92) pour {'adaboostregressor__loss': 'square'}\n",
      "Meilleurs hyper-paramètres : {'adaboostregressor__loss': 'linear'}\n",
      "\n",
      "R² sur le jeu d'entraînement complet : 0.87\n",
      "R² sur le jeu de test : 0.79\n",
      "------------------------------------------------------------------------------------------\n",
      "GradientBoosting avec ENERGYSTARScore\n",
      "Résultats de la validation croisée :\n",
      "R² moyen sur les folds du jeu d'entraînement dans la CV = 0.99 (+/-0.00) pour {'gradientboostingregressor__learning_rate': 0.1, 'gradientboostingregressor__n_estimators': 72}\n",
      "R² moyen sur les folds du jeu de test dans la CV = 0.50 (+/-0.43) pour {'gradientboostingregressor__learning_rate': 0.1, 'gradientboostingregressor__n_estimators': 72}\n",
      "R² moyen sur les folds du jeu d'entraînement dans la CV = 0.99 (+/-0.00) pour {'gradientboostingregressor__learning_rate': 0.1, 'gradientboostingregressor__n_estimators': 100}\n",
      "R² moyen sur les folds du jeu de test dans la CV = 0.51 (+/-0.42) pour {'gradientboostingregressor__learning_rate': 0.1, 'gradientboostingregressor__n_estimators': 100}\n",
      "R² moyen sur les folds du jeu d'entraînement dans la CV = 1.00 (+/-0.00) pour {'gradientboostingregressor__learning_rate': 0.1, 'gradientboostingregressor__n_estimators': 200}\n",
      "R² moyen sur les folds du jeu de test dans la CV = 0.50 (+/-0.44) pour {'gradientboostingregressor__learning_rate': 0.1, 'gradientboostingregressor__n_estimators': 200}\n",
      "R² moyen sur les folds du jeu d'entraînement dans la CV = 0.99 (+/-0.00) pour {'gradientboostingregressor__learning_rate': 0.2, 'gradientboostingregressor__n_estimators': 72}\n",
      "R² moyen sur les folds du jeu de test dans la CV = 0.61 (+/-0.37) pour {'gradientboostingregressor__learning_rate': 0.2, 'gradientboostingregressor__n_estimators': 72}\n",
      "R² moyen sur les folds du jeu d'entraînement dans la CV = 1.00 (+/-0.00) pour {'gradientboostingregressor__learning_rate': 0.2, 'gradientboostingregressor__n_estimators': 100}\n",
      "R² moyen sur les folds du jeu de test dans la CV = 0.61 (+/-0.36) pour {'gradientboostingregressor__learning_rate': 0.2, 'gradientboostingregressor__n_estimators': 100}\n",
      "R² moyen sur les folds du jeu d'entraînement dans la CV = 1.00 (+/-0.00) pour {'gradientboostingregressor__learning_rate': 0.2, 'gradientboostingregressor__n_estimators': 200}\n",
      "R² moyen sur les folds du jeu de test dans la CV = 0.61 (+/-0.37) pour {'gradientboostingregressor__learning_rate': 0.2, 'gradientboostingregressor__n_estimators': 200}\n",
      "R² moyen sur les folds du jeu d'entraînement dans la CV = 1.00 (+/-0.00) pour {'gradientboostingregressor__learning_rate': 0.3, 'gradientboostingregressor__n_estimators': 72}\n",
      "R² moyen sur les folds du jeu de test dans la CV = 0.59 (+/-0.38) pour {'gradientboostingregressor__learning_rate': 0.3, 'gradientboostingregressor__n_estimators': 72}\n",
      "R² moyen sur les folds du jeu d'entraînement dans la CV = 1.00 (+/-0.00) pour {'gradientboostingregressor__learning_rate': 0.3, 'gradientboostingregressor__n_estimators': 100}\n",
      "R² moyen sur les folds du jeu de test dans la CV = 0.59 (+/-0.38) pour {'gradientboostingregressor__learning_rate': 0.3, 'gradientboostingregressor__n_estimators': 100}\n",
      "R² moyen sur les folds du jeu d'entraînement dans la CV = 1.00 (+/-0.00) pour {'gradientboostingregressor__learning_rate': 0.3, 'gradientboostingregressor__n_estimators': 200}\n",
      "R² moyen sur les folds du jeu de test dans la CV = 0.60 (+/-0.39) pour {'gradientboostingregressor__learning_rate': 0.3, 'gradientboostingregressor__n_estimators': 200}\n",
      "Meilleurs hyper-paramètres : {'gradientboostingregressor__learning_rate': 0.2, 'gradientboostingregressor__n_estimators': 100}\n",
      "\n",
      "R² sur le jeu d'entraînement complet : 1.00\n",
      "R² sur le jeu de test : 0.88\n"
     ]
    }
   ],
   "source": [
    "for nom, modele in dict_modeles.items():\n",
    "    print('-'*90)\n",
    "    print(nom, 'avec ENERGYSTARScore')\n",
    "    optimisation(modele, nom)"
   ]
  },
  {
   "cell_type": "markdown",
   "id": "3b13134a",
   "metadata": {},
   "source": [
    "Je relance sur le même jeu de données, réduit aux modalités contenant un ENERGYSTARScore, mais sans cette variable pour que la comparaison soit juste."
   ]
  },
  {
   "cell_type": "code",
   "execution_count": 26,
   "id": "851ffb2f",
   "metadata": {
    "scrolled": false
   },
   "outputs": [
    {
     "name": "stdout",
     "output_type": "stream",
     "text": [
      "------------------------------------------------------------------------------------------\n",
      "KNeighbors sans ENERGYSTARScore\n",
      "Résultats de la validation croisée :\n",
      "R² moyen sur les folds du jeu d'entraînement dans la CV = 0.55 (+/-0.13) pour {'kneighborsregressor__n_neighbors': 5}\n",
      "R² moyen sur les folds du jeu de test dans la CV = 0.38 (+/-0.38) pour {'kneighborsregressor__n_neighbors': 5}\n",
      "R² moyen sur les folds du jeu d'entraînement dans la CV = 0.52 (+/-0.11) pour {'kneighborsregressor__n_neighbors': 6}\n",
      "R² moyen sur les folds du jeu de test dans la CV = 0.45 (+/-0.33) pour {'kneighborsregressor__n_neighbors': 6}\n",
      "R² moyen sur les folds du jeu d'entraînement dans la CV = 0.50 (+/-0.11) pour {'kneighborsregressor__n_neighbors': 7}\n",
      "R² moyen sur les folds du jeu de test dans la CV = 0.43 (+/-0.23) pour {'kneighborsregressor__n_neighbors': 7}\n",
      "Meilleurs hyper-paramètres : {'kneighborsregressor__n_neighbors': 6}\n",
      "\n",
      "R² sur le jeu d'entraînement complet : 0.52\n",
      "R² sur le jeu de test : 0.56\n",
      "------------------------------------------------------------------------------------------\n",
      "Ridge sans ENERGYSTARScore\n",
      "Résultats de la validation croisée :\n",
      "R² moyen sur les folds du jeu d'entraînement dans la CV = 0.69 (+/-0.16) pour {'ridgecv__alphas': 0.1}\n",
      "R² moyen sur les folds du jeu de test dans la CV = 0.21 (+/-0.97) pour {'ridgecv__alphas': 0.1}\n",
      "R² moyen sur les folds du jeu d'entraînement dans la CV = 0.68 (+/-0.16) pour {'ridgecv__alphas': 1.0}\n",
      "R² moyen sur les folds du jeu de test dans la CV = 0.30 (+/-0.77) pour {'ridgecv__alphas': 1.0}\n",
      "R² moyen sur les folds du jeu d'entraînement dans la CV = 0.60 (+/-0.15) pour {'ridgecv__alphas': 10.0}\n",
      "R² moyen sur les folds du jeu de test dans la CV = 0.38 (+/-0.45) pour {'ridgecv__alphas': 10.0}\n",
      "Meilleurs hyper-paramètres : {'ridgecv__alphas': 10.0}\n",
      "\n",
      "R² sur le jeu d'entraînement complet : 0.61\n",
      "R² sur le jeu de test : 0.65\n",
      "------------------------------------------------------------------------------------------\n",
      "SVM sans ENERGYSTARScore\n",
      "Résultats de la validation croisée :\n",
      "R² moyen sur les folds du jeu d'entraînement dans la CV = 0.24 (+/-0.03) pour {'svr__C': 10000000.0, 'svr__gamma': 0.001}\n",
      "R² moyen sur les folds du jeu de test dans la CV = 0.35 (+/-0.39) pour {'svr__C': 10000000.0, 'svr__gamma': 0.001}\n",
      "R² moyen sur les folds du jeu d'entraînement dans la CV = 0.26 (+/-0.02) pour {'svr__C': 10000000.0, 'svr__gamma': 0.01}\n",
      "R² moyen sur les folds du jeu de test dans la CV = 0.37 (+/-0.42) pour {'svr__C': 10000000.0, 'svr__gamma': 0.01}\n",
      "R² moyen sur les folds du jeu d'entraînement dans la CV = 0.28 (+/-0.04) pour {'svr__C': 10000000.0, 'svr__gamma': 0.1}\n",
      "R² moyen sur les folds du jeu de test dans la CV = 0.37 (+/-0.42) pour {'svr__C': 10000000.0, 'svr__gamma': 0.1}\n",
      "R² moyen sur les folds du jeu d'entraînement dans la CV = 0.28 (+/-0.03) pour {'svr__C': 31622776.60168379, 'svr__gamma': 0.001}\n",
      "R² moyen sur les folds du jeu de test dans la CV = 0.39 (+/-0.37) pour {'svr__C': 31622776.60168379, 'svr__gamma': 0.001}\n",
      "R² moyen sur les folds du jeu d'entraînement dans la CV = 0.34 (+/-0.04) pour {'svr__C': 31622776.60168379, 'svr__gamma': 0.01}\n",
      "R² moyen sur les folds du jeu de test dans la CV = 0.41 (+/-0.39) pour {'svr__C': 31622776.60168379, 'svr__gamma': 0.01}\n",
      "R² moyen sur les folds du jeu d'entraînement dans la CV = 0.42 (+/-0.02) pour {'svr__C': 31622776.60168379, 'svr__gamma': 0.1}\n",
      "R² moyen sur les folds du jeu de test dans la CV = 0.43 (+/-0.42) pour {'svr__C': 31622776.60168379, 'svr__gamma': 0.1}\n",
      "R² moyen sur les folds du jeu d'entraînement dans la CV = 0.32 (+/-0.04) pour {'svr__C': 100000000.0, 'svr__gamma': 0.001}\n",
      "R² moyen sur les folds du jeu de test dans la CV = 0.40 (+/-0.33) pour {'svr__C': 100000000.0, 'svr__gamma': 0.001}\n",
      "R² moyen sur les folds du jeu d'entraînement dans la CV = 0.46 (+/-0.09) pour {'svr__C': 100000000.0, 'svr__gamma': 0.01}\n",
      "R² moyen sur les folds du jeu de test dans la CV = 0.47 (+/-0.32) pour {'svr__C': 100000000.0, 'svr__gamma': 0.01}\n",
      "R² moyen sur les folds du jeu d'entraînement dans la CV = 0.66 (+/-0.05) pour {'svr__C': 100000000.0, 'svr__gamma': 0.1}\n",
      "R² moyen sur les folds du jeu de test dans la CV = 0.44 (+/-0.36) pour {'svr__C': 100000000.0, 'svr__gamma': 0.1}\n",
      "Meilleurs hyper-paramètres : {'svr__C': 100000000.0, 'svr__gamma': 0.01}\n",
      "\n",
      "R² sur le jeu d'entraînement complet : 0.48\n",
      "R² sur le jeu de test : 0.50\n",
      "------------------------------------------------------------------------------------------\n",
      "kRR sans ENERGYSTARScore\n",
      "Résultats de la validation croisée :\n",
      "R² moyen sur les folds du jeu d'entraînement dans la CV = 0.69 (+/-0.16) pour {'kernelridge__alpha': 0.1, 'kernelridge__gamma': 1e-05}\n",
      "R² moyen sur les folds du jeu de test dans la CV = 0.21 (+/-0.97) pour {'kernelridge__alpha': 0.1, 'kernelridge__gamma': 1e-05}\n",
      "R² moyen sur les folds du jeu d'entraînement dans la CV = 0.69 (+/-0.16) pour {'kernelridge__alpha': 0.1, 'kernelridge__gamma': 0.0001}\n",
      "R² moyen sur les folds du jeu de test dans la CV = 0.21 (+/-0.97) pour {'kernelridge__alpha': 0.1, 'kernelridge__gamma': 0.0001}\n",
      "R² moyen sur les folds du jeu d'entraînement dans la CV = 0.69 (+/-0.16) pour {'kernelridge__alpha': 0.1, 'kernelridge__gamma': 0.001}\n",
      "R² moyen sur les folds du jeu de test dans la CV = 0.21 (+/-0.97) pour {'kernelridge__alpha': 0.1, 'kernelridge__gamma': 0.001}\n",
      "R² moyen sur les folds du jeu d'entraînement dans la CV = 0.68 (+/-0.16) pour {'kernelridge__alpha': 1.0, 'kernelridge__gamma': 1e-05}\n",
      "R² moyen sur les folds du jeu de test dans la CV = 0.30 (+/-0.77) pour {'kernelridge__alpha': 1.0, 'kernelridge__gamma': 1e-05}\n",
      "R² moyen sur les folds du jeu d'entraînement dans la CV = 0.68 (+/-0.16) pour {'kernelridge__alpha': 1.0, 'kernelridge__gamma': 0.0001}\n",
      "R² moyen sur les folds du jeu de test dans la CV = 0.30 (+/-0.77) pour {'kernelridge__alpha': 1.0, 'kernelridge__gamma': 0.0001}\n",
      "R² moyen sur les folds du jeu d'entraînement dans la CV = 0.68 (+/-0.16) pour {'kernelridge__alpha': 1.0, 'kernelridge__gamma': 0.001}\n",
      "R² moyen sur les folds du jeu de test dans la CV = 0.30 (+/-0.77) pour {'kernelridge__alpha': 1.0, 'kernelridge__gamma': 0.001}\n",
      "R² moyen sur les folds du jeu d'entraînement dans la CV = 0.60 (+/-0.15) pour {'kernelridge__alpha': 10.0, 'kernelridge__gamma': 1e-05}\n",
      "R² moyen sur les folds du jeu de test dans la CV = 0.38 (+/-0.45) pour {'kernelridge__alpha': 10.0, 'kernelridge__gamma': 1e-05}\n",
      "R² moyen sur les folds du jeu d'entraînement dans la CV = 0.60 (+/-0.15) pour {'kernelridge__alpha': 10.0, 'kernelridge__gamma': 0.0001}\n",
      "R² moyen sur les folds du jeu de test dans la CV = 0.38 (+/-0.45) pour {'kernelridge__alpha': 10.0, 'kernelridge__gamma': 0.0001}\n",
      "R² moyen sur les folds du jeu d'entraînement dans la CV = 0.60 (+/-0.15) pour {'kernelridge__alpha': 10.0, 'kernelridge__gamma': 0.001}\n",
      "R² moyen sur les folds du jeu de test dans la CV = 0.38 (+/-0.45) pour {'kernelridge__alpha': 10.0, 'kernelridge__gamma': 0.001}\n",
      "Meilleurs hyper-paramètres : {'kernelridge__alpha': 10.0, 'kernelridge__gamma': 1e-05}\n",
      "\n",
      "R² sur le jeu d'entraînement complet : 0.61\n",
      "R² sur le jeu de test : 0.65\n",
      "------------------------------------------------------------------------------------------\n",
      "RandomForest sans ENERGYSTARScore\n",
      "Résultats de la validation croisée :\n",
      "R² moyen sur les folds du jeu d'entraînement dans la CV = 0.94 (+/-0.04) pour {'randomforestregressor__n_estimators': 100}\n",
      "R² moyen sur les folds du jeu de test dans la CV = 0.46 (+/-0.49) pour {'randomforestregressor__n_estimators': 100}\n",
      "R² moyen sur les folds du jeu d'entraînement dans la CV = 0.93 (+/-0.03) pour {'randomforestregressor__n_estimators': 200}\n",
      "R² moyen sur les folds du jeu de test dans la CV = 0.48 (+/-0.47) pour {'randomforestregressor__n_estimators': 200}\n",
      "R² moyen sur les folds du jeu d'entraînement dans la CV = 0.93 (+/-0.03) pour {'randomforestregressor__n_estimators': 300}\n",
      "R² moyen sur les folds du jeu de test dans la CV = 0.49 (+/-0.48) pour {'randomforestregressor__n_estimators': 300}\n",
      "Meilleurs hyper-paramètres : {'randomforestregressor__n_estimators': 300}\n",
      "\n",
      "R² sur le jeu d'entraînement complet : 0.95\n",
      "R² sur le jeu de test : 0.92\n",
      "------------------------------------------------------------------------------------------\n",
      "AdaBoost sans ENERGYSTARScore\n",
      "Résultats de la validation croisée :\n",
      "R² moyen sur les folds du jeu d'entraînement dans la CV = 0.83 (+/-0.13) pour {'adaboostregressor__loss': 'linear'}\n",
      "R² moyen sur les folds du jeu de test dans la CV = 0.02 (+/-1.28) pour {'adaboostregressor__loss': 'linear'}\n",
      "R² moyen sur les folds du jeu d'entraînement dans la CV = 0.81 (+/-0.08) pour {'adaboostregressor__loss': 'exponential'}\n",
      "R² moyen sur les folds du jeu de test dans la CV = 0.20 (+/-0.91) pour {'adaboostregressor__loss': 'exponential'}\n",
      "R² moyen sur les folds du jeu d'entraînement dans la CV = 0.76 (+/-0.20) pour {'adaboostregressor__loss': 'square'}\n",
      "R² moyen sur les folds du jeu de test dans la CV = -0.41 (+/-2.22) pour {'adaboostregressor__loss': 'square'}\n",
      "Meilleurs hyper-paramètres : {'adaboostregressor__loss': 'exponential'}\n",
      "\n",
      "R² sur le jeu d'entraînement complet : 0.78\n",
      "R² sur le jeu de test : 0.71\n",
      "------------------------------------------------------------------------------------------\n",
      "GradientBoosting sans ENERGYSTARScore\n",
      "Résultats de la validation croisée :\n",
      "R² moyen sur les folds du jeu d'entraînement dans la CV = 0.97 (+/-0.01) pour {'gradientboostingregressor__learning_rate': 0.1, 'gradientboostingregressor__n_estimators': 72}\n",
      "R² moyen sur les folds du jeu de test dans la CV = 0.61 (+/-0.44) pour {'gradientboostingregressor__learning_rate': 0.1, 'gradientboostingregressor__n_estimators': 72}\n",
      "R² moyen sur les folds du jeu d'entraînement dans la CV = 0.98 (+/-0.01) pour {'gradientboostingregressor__learning_rate': 0.1, 'gradientboostingregressor__n_estimators': 100}\n",
      "R² moyen sur les folds du jeu de test dans la CV = 0.60 (+/-0.45) pour {'gradientboostingregressor__learning_rate': 0.1, 'gradientboostingregressor__n_estimators': 100}\n",
      "R² moyen sur les folds du jeu d'entraînement dans la CV = 0.99 (+/-0.00) pour {'gradientboostingregressor__learning_rate': 0.1, 'gradientboostingregressor__n_estimators': 200}\n",
      "R² moyen sur les folds du jeu de test dans la CV = 0.59 (+/-0.46) pour {'gradientboostingregressor__learning_rate': 0.1, 'gradientboostingregressor__n_estimators': 200}\n",
      "R² moyen sur les folds du jeu d'entraînement dans la CV = 0.99 (+/-0.01) pour {'gradientboostingregressor__learning_rate': 0.2, 'gradientboostingregressor__n_estimators': 72}\n",
      "R² moyen sur les folds du jeu de test dans la CV = 0.50 (+/-0.73) pour {'gradientboostingregressor__learning_rate': 0.2, 'gradientboostingregressor__n_estimators': 72}\n",
      "R² moyen sur les folds du jeu d'entraînement dans la CV = 0.99 (+/-0.00) pour {'gradientboostingregressor__learning_rate': 0.2, 'gradientboostingregressor__n_estimators': 100}\n",
      "R² moyen sur les folds du jeu de test dans la CV = 0.49 (+/-0.77) pour {'gradientboostingregressor__learning_rate': 0.2, 'gradientboostingregressor__n_estimators': 100}\n",
      "R² moyen sur les folds du jeu d'entraînement dans la CV = 1.00 (+/-0.00) pour {'gradientboostingregressor__learning_rate': 0.2, 'gradientboostingregressor__n_estimators': 200}\n",
      "R² moyen sur les folds du jeu de test dans la CV = 0.46 (+/-0.80) pour {'gradientboostingregressor__learning_rate': 0.2, 'gradientboostingregressor__n_estimators': 200}\n",
      "R² moyen sur les folds du jeu d'entraînement dans la CV = 0.99 (+/-0.00) pour {'gradientboostingregressor__learning_rate': 0.3, 'gradientboostingregressor__n_estimators': 72}\n",
      "R² moyen sur les folds du jeu de test dans la CV = 0.49 (+/-0.60) pour {'gradientboostingregressor__learning_rate': 0.3, 'gradientboostingregressor__n_estimators': 72}\n",
      "R² moyen sur les folds du jeu d'entraînement dans la CV = 1.00 (+/-0.00) pour {'gradientboostingregressor__learning_rate': 0.3, 'gradientboostingregressor__n_estimators': 100}\n",
      "R² moyen sur les folds du jeu de test dans la CV = 0.49 (+/-0.60) pour {'gradientboostingregressor__learning_rate': 0.3, 'gradientboostingregressor__n_estimators': 100}\n",
      "R² moyen sur les folds du jeu d'entraînement dans la CV = 1.00 (+/-0.00) pour {'gradientboostingregressor__learning_rate': 0.3, 'gradientboostingregressor__n_estimators': 200}\n",
      "R² moyen sur les folds du jeu de test dans la CV = 0.48 (+/-0.61) pour {'gradientboostingregressor__learning_rate': 0.3, 'gradientboostingregressor__n_estimators': 200}\n",
      "Meilleurs hyper-paramètres : {'gradientboostingregressor__learning_rate': 0.1, 'gradientboostingregressor__n_estimators': 72}\n",
      "\n",
      "R² sur le jeu d'entraînement complet : 0.97\n",
      "R² sur le jeu de test : 0.90\n"
     ]
    }
   ],
   "source": [
    "X = X.drop(columns={'ENERGYSTARScore'})\n",
    "\n",
    "X_train, X_test, y_train, y_test = train_test_split(X, y, test_size=0.2, random_state=39)\n",
    "\n",
    "for nom, modele in dict_modeles.items():\n",
    "    print('-'*90)\n",
    "    print(nom, 'sans ENERGYSTARScore')\n",
    "    optimisation(modele, nom)"
   ]
  },
  {
   "cell_type": "markdown",
   "id": "b26e2238",
   "metadata": {},
   "source": [
    "**Le gain est vraiment minime avec l'*ENERGYSTARScore***.\n",
    "Pire, les modèles *GradientBoosting*, *RandomForest* et *KNeighbors* qui sont meilleurs sans.\n",
    "\n",
    "L'équipe va pouvoir abandonner le calcul de ce score fastidieux à obtenir."
   ]
  },
  {
   "cell_type": "markdown",
   "id": "22d54c18",
   "metadata": {},
   "source": [
    "## Choix final\n",
    "En dehors de toute considération de temps de calcul, qui n'est pas primordial pour notre besoin, le modèle choisi est celui qui apporte la meilleure performance de prédiction.\n",
    "\n",
    "Il s'agit donc du modèle **Gradient Boosting**, avec les hyperparamètres :\n",
    "- learning_rate = 0.2\n",
    "- n_estimators = 72\n",
    "\n",
    "Je relance la modélisation avec ces hyperparamètres afin d'afficher un diagramme de dispersion entre les valeurs réelles et les valeurs prédites, sur le jeu de test."
   ]
  },
  {
   "cell_type": "code",
   "execution_count": 27,
   "id": "3f096d3c",
   "metadata": {},
   "outputs": [
    {
     "data": {
      "image/png": "[encoded data removed]",
      "text/plain": [
       "<Figure size 1000x1000 with 1 Axes>"
      ]
     },
     "metadata": {},
     "output_type": "display_data"
    }
   ],
   "source": [
    "X = data.drop(columns={'SiteEnergyUseWN(kBtu)', 'ENERGYSTARScore'})\n",
    "y = data['SiteEnergyUseWN(kBtu)']\n",
    "\n",
    "X_train, X_test, y_train, y_test = train_test_split(X, y, test_size=0.2, random_state=39)\n",
    "\n",
    "modele_final = make_pipeline(preprocesseur, GradientBoostingRegressor(learning_rate = 0.2,\n",
    "                                                                      n_estimators = 72,\n",
    "                                                                      random_state=39))\n",
    "\n",
    "modele_final.fit(X_train,y_train)\n",
    "y_pred = modele_final.predict(X_test)\n",
    "\n",
    "sns.set_theme(style='whitegrid', palette='pastel')\n",
    "\n",
    "plt.figure(figsize=(10,10))\n",
    "plt.scatter(y_test, y_pred)\n",
    "diag1 = max(max(y_pred), max(y_test))\n",
    "diag2 = min(min(y_pred), min(y_test))\n",
    "plt.plot([diag1, diag2], [diag1, diag2], c='green')\n",
    "plt.xlabel('Valeurs réelles', fontsize=15)\n",
    "plt.ylabel('Valeurs prédites', fontsize=15)\n",
    "plt.title(\"Modèle final pour les consommations d'énergies : Gradient Boosting\\nEcarts entre les valeurs réelles et prédites\\nScore R² : \"+str(round(metrics.r2_score(y_test, y_pred),2)))\n",
    "plt.show()"
   ]
  },
  {
   "cell_type": "markdown",
   "id": "0bbcc08b",
   "metadata": {},
   "source": [
    "En zoomant :"
   ]
  },
  {
   "cell_type": "code",
   "execution_count": 28,
   "id": "b3b3940e",
   "metadata": {},
   "outputs": [
    {
     "data": {
      "image/png": "[encoded data removed]",
      "text/plain": [
       "<Figure size 1000x1000 with 1 Axes>"
      ]
     },
     "metadata": {},
     "output_type": "display_data"
    }
   ],
   "source": [
    "plt.figure(figsize=(10,10))\n",
    "plt.scatter(y_test, y_pred)\n",
    "diag1 = max(max(y_pred), max(y_test))\n",
    "diag2 = min(min(y_pred), min(y_test))\n",
    "plt.plot([diag1, diag2], [diag1, diag2], c='green')\n",
    "plt.xlabel('Valeurs réelles', fontsize=15)\n",
    "plt.ylabel('Valeurs prédites', fontsize=15)\n",
    "plt.title(\"Modèle final pour les consommations d'énergies : Gradient Boosting\\nEcarts entre les valeurs réelles et prédites\\nScore R² : \"+str(round(metrics.r2_score(y_test, y_pred),2)))\n",
    "plt.xlim(-1e6, 7e7)\n",
    "plt.ylim(-1e6, 7e7)\n",
    "plt.show()"
   ]
  }
 ],
 "metadata": {
  "kernelspec": {
   "display_name": "Python 3 (ipykernel)",
   "language": "python",
   "name": "python3"
  },
  "language_info": {
   "codemirror_mode": {
    "name": "ipython",
    "version": 3
   },
   "file_extension": ".py",
   "mimetype": "text/x-python",
   "name": "python",
   "nbconvert_exporter": "python",
   "pygments_lexer": "ipython3",
   "version": "3.10.11"
  }
 },
 "nbformat": 4,
 "nbformat_minor": 5
}
